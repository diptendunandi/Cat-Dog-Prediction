{
 "cells": [
  {
   "cell_type": "code",
   "execution_count": null,
   "id": "8c18b47d",
   "metadata": {},
   "outputs": [],
   "source": [
    "import tensorflow as tf\n",
    "from keras.preprocessing.image import ImageDataGenerator"
   ]
  },
  {
   "cell_type": "code",
   "execution_count": 3,
   "id": "0cce0790",
   "metadata": {},
   "outputs": [
    {
     "data": {
      "text/plain": [
       "'2.7.0'"
      ]
     },
     "execution_count": 3,
     "metadata": {},
     "output_type": "execute_result"
    }
   ],
   "source": [
    "tf.__version__"
   ]
  },
  {
   "cell_type": "code",
   "execution_count": 5,
   "id": "f17ac353",
   "metadata": {},
   "outputs": [
    {
     "name": "stdout",
     "output_type": "stream",
     "text": [
      "Found 8005 images belonging to 2 classes.\n"
     ]
    }
   ],
   "source": [
    "train_datagen=ImageDataGenerator(rescale=1./255,\n",
    "                                 shear_range=0.2,\n",
    "                                 zoom_range=0.2,\n",
    "                                 horizontal_flip=True)\n",
    "training_set=train_datagen.flow_from_directory('Dataset/dogcat/training_set/training_set',\n",
    "                                                target_size=(64,64),\n",
    "                                                batch_size=32,\n",
    "                                                class_mode='binary')"
   ]
  },
  {
   "cell_type": "code",
   "execution_count": 7,
   "id": "ae50c1d4",
   "metadata": {},
   "outputs": [
    {
     "name": "stdout",
     "output_type": "stream",
     "text": [
      "Found 2023 images belonging to 2 classes.\n"
     ]
    }
   ],
   "source": [
    "test_datagen=ImageDataGenerator(rescale=1./255)\n",
    "test_set=test_datagen.flow_from_directory('Dataset/dogcat/test_set/test_set',\n",
    "                                                target_size=(64,64),\n",
    "                                                batch_size=32,\n",
    "                                                class_mode='binary')"
   ]
  },
  {
   "cell_type": "code",
   "execution_count": 9,
   "id": "2d8cc011",
   "metadata": {},
   "outputs": [],
   "source": [
    "#Initialising cnn\n",
    "cnn=tf.keras.models.Sequential()"
   ]
  },
  {
   "cell_type": "code",
   "execution_count": 10,
   "id": "a66d4d78",
   "metadata": {},
   "outputs": [],
   "source": [
    "#Convolution\n",
    "cnn.add(tf.keras.layers.Conv2D(filters=32,kernel_size=3,activation='relu',input_shape=[64,64,3]))"
   ]
  },
  {
   "cell_type": "code",
   "execution_count": 11,
   "id": "a49be15c",
   "metadata": {},
   "outputs": [],
   "source": [
    "#Pooling\n",
    "cnn.add(tf.keras.layers.MaxPool2D(pool_size=2,strides=2))"
   ]
  },
  {
   "cell_type": "code",
   "execution_count": 12,
   "id": "8a0e2c02",
   "metadata": {},
   "outputs": [],
   "source": [
    "#Adding another Convolution Layer\n",
    "cnn.add(tf.keras.layers.Conv2D(filters=32,kernel_size=3,activation='relu'))\n",
    "cnn.add(tf.keras.layers.MaxPool2D(pool_size=2,strides=2))"
   ]
  },
  {
   "cell_type": "code",
   "execution_count": 13,
   "id": "aa53135f",
   "metadata": {},
   "outputs": [],
   "source": [
    "#Flattering\n",
    "cnn.add(tf.keras.layers.Flatten())"
   ]
  },
  {
   "cell_type": "code",
   "execution_count": 14,
   "id": "b13b2de7",
   "metadata": {},
   "outputs": [],
   "source": [
    "#Full connection\n",
    "cnn.add(tf.keras.layers.Dense(units=128,activation='relu'))"
   ]
  },
  {
   "cell_type": "code",
   "execution_count": 15,
   "id": "3c562b93",
   "metadata": {},
   "outputs": [],
   "source": [
    "#Output\n",
    "cnn.add(tf.keras.layers.Dense(units=1,activation='sigmoid'))"
   ]
  },
  {
   "cell_type": "code",
   "execution_count": 17,
   "id": "ee642c2e",
   "metadata": {},
   "outputs": [],
   "source": [
    "#Compiling cnn\n",
    "cnn.compile(optimizer='adam',loss='binary_crossentropy',metrics=['accuracy'])"
   ]
  },
  {
   "cell_type": "code",
   "execution_count": null,
   "id": "efb3e855",
   "metadata": {},
   "outputs": [
    {
     "name": "stdout",
     "output_type": "stream",
     "text": [
      "Epoch 1/100\n",
      "251/251 [==============================] - 31s 122ms/step - loss: 0.2967 - accuracy: 0.8687 - val_loss: 0.4434 - val_accuracy: 0.8067\n",
      "Epoch 2/100\n",
      "251/251 [==============================] - 31s 124ms/step - loss: 0.2972 - accuracy: 0.8678 - val_loss: 0.4348 - val_accuracy: 0.8171\n",
      "Epoch 3/100\n",
      "251/251 [==============================] - 33s 131ms/step - loss: 0.2879 - accuracy: 0.8753 - val_loss: 0.4556 - val_accuracy: 0.8156\n",
      "Epoch 4/100\n",
      "251/251 [==============================] - 36s 145ms/step - loss: 0.2756 - accuracy: 0.8827 - val_loss: 0.4610 - val_accuracy: 0.8206\n",
      "Epoch 5/100\n",
      "251/251 [==============================] - 34s 137ms/step - loss: 0.2710 - accuracy: 0.8802 - val_loss: 0.5625 - val_accuracy: 0.7696\n",
      "Epoch 6/100\n",
      "251/251 [==============================] - 36s 143ms/step - loss: 0.2548 - accuracy: 0.8907 - val_loss: 0.4556 - val_accuracy: 0.8102\n",
      "Epoch 7/100\n",
      "251/251 [==============================] - 33s 131ms/step - loss: 0.2450 - accuracy: 0.8949 - val_loss: 0.4977 - val_accuracy: 0.8122\n",
      "Epoch 8/100\n",
      "251/251 [==============================] - 39s 155ms/step - loss: 0.2412 - accuracy: 0.8941 - val_loss: 0.5071 - val_accuracy: 0.8038\n",
      "Epoch 9/100\n",
      "251/251 [==============================] - 48s 190ms/step - loss: 0.2328 - accuracy: 0.9041 - val_loss: 0.5330 - val_accuracy: 0.8112\n",
      "Epoch 10/100\n",
      "251/251 [==============================] - 43s 171ms/step - loss: 0.2198 - accuracy: 0.9097 - val_loss: 0.4877 - val_accuracy: 0.8141\n",
      "Epoch 11/100\n",
      "251/251 [==============================] - 48s 192ms/step - loss: 0.2122 - accuracy: 0.9118 - val_loss: 0.5490 - val_accuracy: 0.8033\n",
      "Epoch 12/100\n",
      "251/251 [==============================] - 66s 264ms/step - loss: 0.2190 - accuracy: 0.9096 - val_loss: 0.5572 - val_accuracy: 0.7899\n",
      "Epoch 13/100\n",
      "251/251 [==============================] - 48s 190ms/step - loss: 0.1950 - accuracy: 0.9222 - val_loss: 0.5367 - val_accuracy: 0.8112\n",
      "Epoch 14/100\n",
      "251/251 [==============================] - 42s 168ms/step - loss: 0.2057 - accuracy: 0.9158 - val_loss: 0.6202 - val_accuracy: 0.7899\n",
      "Epoch 15/100\n",
      "222/251 [=========================>....] - ETA: 4s - loss: 0.1915 - accuracy: 0.9236"
     ]
    }
   ],
   "source": [
    "#Train CNN\n",
    "cnn.fit(x=training_set,validation_data=test_set,epochs=30)"
   ]
  },
  {
   "cell_type": "code",
   "execution_count": 24,
   "id": "4dc3be9b",
   "metadata": {},
   "outputs": [],
   "source": [
    "import numpy as np\n",
    "from keras.preprocessing import image\n",
    "test_image=image.load_img('Dataset/dogcat/prediction/cat_dog7.jpg',target_size=(64,64))\n",
    "test_image=image.img_to_array(test_image)\n",
    "test_image=np.expand_dims(test_image,axis=0)\n",
    "result=cnn.predict(test_image)\n",
    "training_set.class_indices\n",
    "if result[0][0]==1:\n",
    "    prediction='dog'\n",
    "else:\n",
    "    prediction='cat'"
   ]
  },
  {
   "cell_type": "code",
   "execution_count": 25,
   "id": "83a0ac8a",
   "metadata": {},
   "outputs": [
    {
     "name": "stdout",
     "output_type": "stream",
     "text": [
      "dog\n"
     ]
    }
   ],
   "source": [
    "print(prediction)"
   ]
  },
  {
   "cell_type": "code",
   "execution_count": 26,
   "id": "2a7b8639",
   "metadata": {},
   "outputs": [
    {
     "name": "stdout",
     "output_type": "stream",
     "text": [
      "[[1.]]\n"
     ]
    }
   ],
   "source": [
    "print(result)"
   ]
  },
  {
   "cell_type": "code",
   "execution_count": null,
   "id": "03f0c95a",
   "metadata": {},
   "outputs": [],
   "source": []
  }
 ],
 "metadata": {
  "kernelspec": {
   "display_name": "Python 3 (ipykernel)",
   "language": "python",
   "name": "python3"
  },
  "language_info": {
   "codemirror_mode": {
    "name": "ipython",
    "version": 3
   },
   "file_extension": ".py",
   "mimetype": "text/x-python",
   "name": "python",
   "nbconvert_exporter": "python",
   "pygments_lexer": "ipython3",
   "version": "3.9.7"
  }
 },
 "nbformat": 4,
 "nbformat_minor": 5
}
